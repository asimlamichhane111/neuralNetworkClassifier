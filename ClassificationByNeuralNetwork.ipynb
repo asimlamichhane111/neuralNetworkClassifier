{
  "nbformat": 4,
  "nbformat_minor": 0,
  "metadata": {
    "colab": {
      "provenance": [],
      "authorship_tag": "ABX9TyNE/cHHwOhdtbqqoFEp2mVc",
      "include_colab_link": true
    },
    "kernelspec": {
      "name": "python3",
      "display_name": "Python 3"
    },
    "language_info": {
      "name": "python"
    }
  },
  "cells": [
    {
      "cell_type": "markdown",
      "metadata": {
        "id": "view-in-github",
        "colab_type": "text"
      },
      "source": [
        "<a href=\"https://colab.research.google.com/github/asimlamichhane111/neuralNetworkClassifier/blob/main/ClassificationByNeuralNetwork.ipynb\" target=\"_parent\"><img src=\"https://colab.research.google.com/assets/colab-badge.svg\" alt=\"Open In Colab\"/></a>"
      ]
    },
    {
      "cell_type": "code",
      "execution_count": 9,
      "metadata": {
        "id": "SNa_hUYoIg5Y"
      },
      "outputs": [],
      "source": [
        "from sklearn.datasets import load_iris\n",
        "from sklearn.model_selection import train_test_split\n",
        "from sklearn.preprocessing import MinMaxScaler,LabelBinarizer\n",
        "import numpy as np\n",
        "from tensorflow.keras.models import Sequential\n",
        "from tensorflow.keras.layers import Dense\n",
        "\n"
      ]
    },
    {
      "cell_type": "code",
      "source": [
        "iris=load_iris()\n",
        "X=iris.data\n",
        "y=iris.target.reshape(-1,1)"
      ],
      "metadata": {
        "id": "nd0zylGLJCbe"
      },
      "execution_count": 10,
      "outputs": []
    },
    {
      "cell_type": "code",
      "source": [
        "encoder=LabelBinarizer()\n",
        "y_encoded=encoder.fit_transform(y)"
      ],
      "metadata": {
        "id": "PYWfg2lkJPjB"
      },
      "execution_count": 11,
      "outputs": []
    },
    {
      "cell_type": "code",
      "source": [
        "scaler=MinMaxScaler()\n",
        "X_scaled=scaler.fit_transform(X)"
      ],
      "metadata": {
        "id": "SDqD-IzjJYSL"
      },
      "execution_count": 12,
      "outputs": []
    },
    {
      "cell_type": "code",
      "source": [
        "X_train,X_test,y_train,y_test=train_test_split(X_scaled,y_encoded,test_size=0.2)\n",
        "model=Sequential([\n",
        "    Dense(10,input_dim=4,activation='relu'),\n",
        "    Dense(8,activation='relu'),\n",
        "    Dense(3,activation='softmax')\n",
        "])"
      ],
      "metadata": {
        "colab": {
          "base_uri": "https://localhost:8080/"
        },
        "id": "RSXO5eMUM6ym",
        "outputId": "8f4018ee-4619-428e-c7bd-df5dd5109210"
      },
      "execution_count": 13,
      "outputs": [
        {
          "output_type": "stream",
          "name": "stderr",
          "text": [
            "/usr/local/lib/python3.12/dist-packages/keras/src/layers/core/dense.py:93: UserWarning: Do not pass an `input_shape`/`input_dim` argument to a layer. When using Sequential models, prefer using an `Input(shape)` object as the first layer in the model instead.\n",
            "  super().__init__(activity_regularizer=activity_regularizer, **kwargs)\n"
          ]
        }
      ]
    },
    {
      "cell_type": "code",
      "source": [
        "model.compile(optimizer='adam',loss='categorical_crossentropy',metrics=['accuracy'])\n",
        "model.fit(X_train,y_train,epochs=100,verbose=0)"
      ],
      "metadata": {
        "colab": {
          "base_uri": "https://localhost:8080/"
        },
        "id": "Xw2IBa0aNRD9",
        "outputId": "e94dcc23-6d18-406c-9221-1f2819bfeec0"
      },
      "execution_count": 14,
      "outputs": [
        {
          "output_type": "execute_result",
          "data": {
            "text/plain": [
              "<keras.src.callbacks.history.History at 0x7f00b0509970>"
            ]
          },
          "metadata": {},
          "execution_count": 14
        }
      ]
    },
    {
      "cell_type": "code",
      "source": [
        "loss,acc=model.evaluate(X_test,y_test,verbose=0)\n",
        "print(f\"Loss:{loss},Accuracy:{acc*100:.2f}%\")"
      ],
      "metadata": {
        "colab": {
          "base_uri": "https://localhost:8080/"
        },
        "id": "vCFnSNrNNfr_",
        "outputId": "b740b2d2-2680-4224-b4b3-fda59a3c9913"
      },
      "execution_count": 15,
      "outputs": [
        {
          "output_type": "stream",
          "name": "stdout",
          "text": [
            "Loss:0.4014074504375458,Accuracy:86.67%\n"
          ]
        }
      ]
    },
    {
      "cell_type": "code",
      "source": [
        "new_data=np.array([[5.1,3.5,1.4,0.2]])\n",
        "new_data_scaled=scaler.transform(new_data)\n",
        "prediction=model.predict(new_data_scaled)\n",
        "predicted_class_decoded=encoder.inverse_transform(prediction)[0]\n",
        "print(predicted_class_decoded)"
      ],
      "metadata": {
        "colab": {
          "base_uri": "https://localhost:8080/"
        },
        "id": "NQualmhkQoD7",
        "outputId": "fdb241fd-8513-4c03-abd5-9af1afab3fd4"
      },
      "execution_count": 17,
      "outputs": [
        {
          "output_type": "stream",
          "name": "stdout",
          "text": [
            "\u001b[1m1/1\u001b[0m \u001b[32m━━━━━━━━━━━━━━━━━━━━\u001b[0m\u001b[37m\u001b[0m \u001b[1m0s\u001b[0m 77ms/step\n",
            "0\n"
          ]
        }
      ]
    }
  ]
}